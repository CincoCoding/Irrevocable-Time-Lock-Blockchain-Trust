{
 "cells": [
  {
   "cell_type": "code",
   "execution_count": 1,
   "id": "ae8ce7aa-d77b-4b89-b952-ab295ab4baf2",
   "metadata": {},
   "outputs": [],
   "source": [
    "################################################################################\n",
    "# Import libraries\n",
    "################################################################################\n",
    "import os\n",
    "import json\n",
    "from web3 import Web3\n",
    "from pathlib import Path\n",
    "from dotenv import load_dotenv\n",
    "import web3\n",
    "\n",
    "\n",
    "\n",
    "# Load .env file\n",
    "load_dotenv()\n",
    "\n",
    "# Define and connect to a new Web3 provider\n",
    "w3 = Web3(Web3.HTTPProvider(os.getenv(\"WEB3_PROVIDER_URI\")))"
   ]
  },
  {
   "cell_type": "code",
   "execution_count": 2,
   "id": "728c7db5-75d5-45e0-a352-9b697729f773",
   "metadata": {},
   "outputs": [],
   "source": [
    "# import ABI file\n",
    "with open(Path('./contracts/compiled/irrevocableTrust_ABI.json')) as f:\n",
    "        timeLock_ABI = json.load(f)\n",
    "\n",
    "# import bytecode object\n",
    "timeLock_bytecode = \"6101206040523480156200001257600080fd5b5060405162000d1238038062000d1283398181016040528101906200003891906200012e565b8473ffffffffffffffffffffffffffffffffffffffff1660808173ffffffffffffffffffffffffffffffffffffffff1660601b815250508373ffffffffffffffffffffffffffffffffffffffff1660a08173ffffffffffffffffffffffffffffffffffffffff1660601b815250508273ffffffffffffffffffffffffffffffffffffffff1660c08173ffffffffffffffffffffffffffffffffffffffff1660601b815250508060e0818152505081610100818152505047600381905550505050505062000222565b6000815190506200011181620001ee565b92915050565b600081519050620001288162000208565b92915050565b600080600080600060a086880312156200014757600080fd5b6000620001578882890162000100565b95505060206200016a8882890162000100565b94505060406200017d8882890162000100565b9350506060620001908882890162000117565b9250506080620001a38882890162000117565b9150509295509295909350565b6000620001bd82620001c4565b9050919050565b600073ffffffffffffffffffffffffffffffffffffffff82169050919050565b6000819050919050565b620001f981620001b0565b81146200020557600080fd5b50565b6200021381620001e4565b81146200021f57600080fd5b50565b60805160601c60a05160601c60c05160601c60e05161010051610a55620002bd60003960008181610353015281816103f2015281816104850152818161051701526105800152600081816101db015281816102e301526104e30152600081816102540152818161044901526106490152600081816101ff015281816103b601526105520152600081816105bb015261066d0152610a556000f3fe6080604052600436106100865760003560e01c8063bf2ac66611610059578063bf2ac66614610123578063d0e30db01461014e578063f3f2f0bc14610158578063fdf97cb214610183578063fe4aaab2146101ae57610086565b80633a2ef9df1461008b5780633ccfd60b146100b65780634f52ccfa146100cd5780635c8de34c146100f8575b600080fd5b34801561009757600080fd5b506100a06101d9565b6040516100ad919061089e565b60405180910390f35b3480156100c257600080fd5b506100cb6101fd565b005b3480156100d957600080fd5b506100e2610550565b6040516100ef9190610803565b60405180910390f35b34801561010457600080fd5b5061010d610574565b60405161011a919061089e565b60405180910390f35b34801561012f57600080fd5b5061013861057e565b604051610145919061089e565b60405180910390f35b6101566105a2565b005b34801561016457600080fd5b5061016d610647565b60405161017a9190610803565b60405180910390f35b34801561018f57600080fd5b5061019861066b565b6040516101a59190610803565b60405180910390f35b3480156101ba57600080fd5b506101c361068f565b6040516101d0919061089e565b60405180910390f35b7f000000000000000000000000000000000000000000000000000000000000000081565b7f000000000000000000000000000000000000000000000000000000000000000073ffffffffffffffffffffffffffffffffffffffff163373ffffffffffffffffffffffffffffffffffffffff1614806102a257507f000000000000000000000000000000000000000000000000000000000000000073ffffffffffffffffffffffffffffffffffffffff163373ffffffffffffffffffffffffffffffffffffffff16145b6102e1576040517f08c379a00000000000000000000000000000000000000000000000000000000081526004016102d89061083e565b60405180910390fd5b7f000000000000000000000000000000000000000000000000000000000000000060005461030f91906108ca565b421015610351576040517f08c379a00000000000000000000000000000000000000000000000000000000081526004016103489061085e565b60405180910390fd5b7f00000000000000000000000000000000000000000000000000000000000000004710156103b4576040517f08c379a00000000000000000000000000000000000000000000000000000000081526004016103ab9061087e565b60405180910390fd5b7f000000000000000000000000000000000000000000000000000000000000000073ffffffffffffffffffffffffffffffffffffffff166108fc60027f000000000000000000000000000000000000000000000000000000000000000061041b9190610920565b9081150290604051600060405180830381858888f19350505050158015610446573d6000803e3d6000fd5b507f000000000000000000000000000000000000000000000000000000000000000073ffffffffffffffffffffffffffffffffffffffff166108fc60027f00000000000000000000000000000000000000000000000000000000000000006104ae9190610920565b9081150290604051600060405180830381858888f193505050501580156104d9573d6000803e3d6000fd5b50426000819055507f000000000000000000000000000000000000000000000000000000000000000060005461050f91906108ca565b6001819055507f0000000000000000000000000000000000000000000000000000000000000000600360008282546105479190610951565b92505081905550565b7f000000000000000000000000000000000000000000000000000000000000000081565b6000600354905090565b7f000000000000000000000000000000000000000000000000000000000000000081565b3373ffffffffffffffffffffffffffffffffffffffff167f000000000000000000000000000000000000000000000000000000000000000073ffffffffffffffffffffffffffffffffffffffff1614610630576040517f08c379a00000000000000000000000000000000000000000000000000000000081526004016106279061081e565b60405180910390fd5b426000819055503460028190555047600381905550565b7f000000000000000000000000000000000000000000000000000000000000000081565b7f000000000000000000000000000000000000000000000000000000000000000081565b6000600154905090565b6106a281610985565b82525050565b60006106b5601d836108b9565b91507f4f6e6c79207468652074727573746565206d6179206465706f736974210000006000830152602082019050919050565b60006106f5603a836108b9565b91507f4f6e6c792064657369676e617465642062656e65666963696172696573206d6160008301527f792077697468647261772066726f6d20746865205472757374210000000000006020830152604082019050919050565b600061075b6024836108b9565b91507f596f7520617265206e6f742079657420616c6c6f77656420746f20776974686460008301527f72617721000000000000000000000000000000000000000000000000000000006020830152604082019050919050565b60006107c16013836108b9565b91507f496e73756666696369656e742066756e647321000000000000000000000000006000830152602082019050919050565b6107fd816109b7565b82525050565b60006020820190506108186000830184610699565b92915050565b60006020820190508181036000830152610837816106a8565b9050919050565b60006020820190508181036000830152610857816106e8565b9050919050565b600060208201905081810360008301526108778161074e565b9050919050565b60006020820190508181036000830152610897816107b4565b9050919050565b60006020820190506108b360008301846107f4565b92915050565b600082825260208201905092915050565b60006108d5826109b7565b91506108e0836109b7565b9250827fffffffffffffffffffffffffffffffffffffffffffffffffffffffffffffffff03821115610915576109146109c1565b5b828201905092915050565b600061092b826109b7565b9150610936836109b7565b925082610946576109456109f0565b5b828204905092915050565b600061095c826109b7565b9150610967836109b7565b92508282101561097a576109796109c1565b5b828203905092915050565b600061099082610997565b9050919050565b600073ffffffffffffffffffffffffffffffffffffffff82169050919050565b6000819050919050565b7f4e487b7100000000000000000000000000000000000000000000000000000000600052601160045260246000fd5b7f4e487b7100000000000000000000000000000000000000000000000000000000600052601260045260246000fdfea2646970667358221220f9c626955050a9577c613eb40de0e72ea4dc5fec94f7a4a59abc151a28f49ffd64736f6c63430008000033\"\n",
    "\n",
    "# Create Contract Class Object\n",
    "def load_contract():\n",
    "\n",
    "    # Load the Contract\n",
    "    contract = w3.eth.contract(\n",
    "        abi=timeLock_ABI,\n",
    "        bytecode=timeLock_bytecode\n",
    "    )\n",
    "\n",
    "    return contract\n",
    "\n",
    "timeLock_contract = load_contract()\n"
   ]
  },
  {
   "cell_type": "code",
   "execution_count": 3,
   "id": "c44aa4a1-721c-47b7-9b65-30c562e59e75",
   "metadata": {},
   "outputs": [],
   "source": [
    "accounts = w3.eth.accounts"
   ]
  },
  {
   "cell_type": "code",
   "execution_count": 4,
   "id": "21be9a78-9edc-4855-bd24-757911c0e8fd",
   "metadata": {},
   "outputs": [],
   "source": [
    "_trustee = '0x86b709fac4e2fB46c57A0408EE14C1Bb4d08DAcA'\n",
    "_beneficiary1 = '0x657d89b2c38906e8005bf744B48F6453799F3f2E'\n",
    "_beneficiary2 = '0x8E12993B3Fc378FA0311AB4786F1D78e8C84A2D9'\n",
    "transaction_amount = 10000000000000000000\n",
    "private_key = '9e640d319d314abfc9cffd28af3368bdc334ba370fd9572212cd91b247eb65dc'\n",
    "_beneficiary1_key = 'cf4a9a0da4ebb700bb0cf6c3dc4fec3fdd4228f26430761a5cc88af25222db3c'\n",
    "_beneficiary2_key = 'd3cd0a5e127f8fe1b91769fb21ea7248d0a00feccd64181507d9b52fa530f61d'\n",
    "waitingPeriod = 1\n",
    "paymentPerPayoutPeriod = 1000000000000000000\n",
    "nonce = w3.eth.getTransactionCount(_trustee)\n"
   ]
  },
  {
   "cell_type": "code",
   "execution_count": 5,
   "id": "3c2e87e4-9bb9-4ad1-a528-8e061378b189",
   "metadata": {},
   "outputs": [],
   "source": [
    "transaction = timeLock_contract.constructor(_trustee, _beneficiary1, _beneficiary2, int(paymentPerPayoutPeriod), int(waitingPeriod),).buildTransaction({\"gasPrice\": w3.eth.gas_price,\"chainId\": 1337, \"from\": _trustee,\"nonce\": nonce})"
   ]
  },
  {
   "cell_type": "code",
   "execution_count": 6,
   "id": "ce2bc600-f576-4487-98e1-e5c65badc298",
   "metadata": {},
   "outputs": [],
   "source": [
    "signed_transaction = w3.eth.account.sign_transaction(transaction, private_key=str(private_key))"
   ]
  },
  {
   "cell_type": "code",
   "execution_count": 7,
   "id": "e9c78a6c-f18e-4893-9791-f262338cf101",
   "metadata": {},
   "outputs": [],
   "source": [
    "transaction_hash = w3.eth.send_raw_transaction(signed_transaction.rawTransaction)"
   ]
  },
  {
   "cell_type": "code",
   "execution_count": 8,
   "id": "243d3aa2-173f-4eec-8813-cbecdb0a3677",
   "metadata": {},
   "outputs": [],
   "source": [
    "transaction_receipt = w3.eth.waitForTransactionReceipt(transaction_hash)"
   ]
  },
  {
   "cell_type": "code",
   "execution_count": 9,
   "id": "26dfb00f-5b97-4e5f-b6e5-25021af13e53",
   "metadata": {},
   "outputs": [],
   "source": [
    "timelock_contract_instance = w3.eth.contract(address=transaction_receipt.contractAddress, abi=timeLock_ABI)"
   ]
  },
  {
   "cell_type": "code",
   "execution_count": 10,
   "id": "7ebf14d4-fa1f-4c7a-a2b3-cd1f724984e8",
   "metadata": {},
   "outputs": [
    {
     "data": {
      "text/plain": [
       "<web3._utils.datatypes.Contract at 0x1edcaba9588>"
      ]
     },
     "execution_count": 10,
     "metadata": {},
     "output_type": "execute_result"
    }
   ],
   "source": [
    "timelock_contract_instance"
   ]
  },
  {
   "cell_type": "code",
   "execution_count": 11,
   "id": "77812be3-2344-4d61-9c4c-d11f439af068",
   "metadata": {},
   "outputs": [],
   "source": [
    "receiveMoneyTransaction = timelock_contract_instance.functions.deposit().buildTransaction(\n",
    "     {\n",
    "    \"gasPrice\": w3.eth.gas_price,\n",
    "    'from': _trustee,\n",
    "    'value': int(transaction_amount),\n",
    "    'chainId': 1337,\n",
    "    'nonce': nonce + 1}\n",
    "    )\n",
    "receiveMoneysigned_transaction = w3.eth.account.sign_transaction(receiveMoneyTransaction, private_key=str(private_key))\n",
    "receiveMoneytransaction_hash = w3.eth.send_raw_transaction(receiveMoneysigned_transaction.rawTransaction)\n",
    "receiveMoneytransaction_receipt = w3.eth.waitForTransactionReceipt(receiveMoneytransaction_hash)"
   ]
  },
  {
   "cell_type": "code",
   "execution_count": 13,
   "id": "0ce67f1e-9716-4565-8879-94d036020921",
   "metadata": {},
   "outputs": [],
   "source": [
    "withdrawal_contract_instance = w3.eth.contract(address=receiveMoneytransaction_receipt.contractAddress, abi=timeLock_ABI)\n",
    "withdraw_nonce = 0\n",
    "withdrawal = timelock_contract_instance.functions.withdraw().buildTransaction(\n",
    "     {\n",
    "        \"gasPrice\" : w3.eth.gas_price,\n",
    "        #\"chainID\" : 1337,\n",
    "        \"from\" : _beneficiary1,\n",
    "        #\"to\": transaction_receipt.contractAddress,\n",
    "        \"nonce\" : withdraw_nonce})\n",
    "    \n",
    "withdraw_nonce += 1"
   ]
  },
  {
   "cell_type": "code",
   "execution_count": 14,
   "id": "b4571c91-bf21-43e4-8ed8-2dd91a345ccd",
   "metadata": {},
   "outputs": [],
   "source": [
    "withdrawal = w3.eth.account.sign_transaction(withdrawal, private_key=str(_beneficiary1_key))"
   ]
  },
  {
   "cell_type": "code",
   "execution_count": 15,
   "id": "ff559128-c8c9-4062-82ed-c9bc0f5f4ed9",
   "metadata": {},
   "outputs": [],
   "source": [
    "withdrawal_hash = w3.eth.send_raw_transaction(withdrawal.rawTransaction)"
   ]
  },
  {
   "cell_type": "code",
   "execution_count": null,
   "id": "ddc92fe7-ac2d-4d63-8d8c-59e43ba7872b",
   "metadata": {},
   "outputs": [],
   "source": []
  }
 ],
 "metadata": {
  "kernelspec": {
   "display_name": "Python 3 (ipykernel)",
   "language": "python",
   "name": "python3"
  },
  "language_info": {
   "codemirror_mode": {
    "name": "ipython",
    "version": 3
   },
   "file_extension": ".py",
   "mimetype": "text/x-python",
   "name": "python",
   "nbconvert_exporter": "python",
   "pygments_lexer": "ipython3",
   "version": "3.7.13"
  }
 },
 "nbformat": 4,
 "nbformat_minor": 5
}
